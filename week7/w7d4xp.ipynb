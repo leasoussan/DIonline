{
 "cells": [
  {
   "cell_type": "markdown",
   "metadata": {},
   "source": [
    "1) to get better results (not 100%  )\n",
    "<!-- c. It prevents the model from being too sensitive to random errors or outliers in the dataset -->\n"
   ]
  },
  {
   "cell_type": "markdown",
   "metadata": {},
   "source": [
    "c. It prevents the model from being too sensitive to random errors or outliers in the dataset"
   ]
  },
  {
   "cell_type": "code",
   "execution_count": 1,
   "metadata": {},
   "outputs": [],
   "source": [
    "import pandas as pd\n",
    "import numpy as np\n",
    "import matplotlib.pyplot as plt\n",
    "import sklearn as sk"
   ]
  },
  {
   "cell_type": "code",
   "execution_count": 86,
   "metadata": {},
   "outputs": [],
   "source": [
    "df = pd.read_csv(r\"C:\\Users\\Lea Soussan\\Desktop\\DIpython\\week7\\w7d4\\features_churn_matrix_ex1.csv\")\n",
    "# df = pd.read_csv(\"https://raw.githubusercontent.com/xtreemtg/csv_files/master/features_churn_matrix_ex1.csv\")"
   ]
  },
  {
   "cell_type": "code",
   "execution_count": 87,
   "metadata": {},
   "outputs": [
    {
     "data": {
      "text/html": [
       "<div>\n",
       "<style scoped>\n",
       "    .dataframe tbody tr th:only-of-type {\n",
       "        vertical-align: middle;\n",
       "    }\n",
       "\n",
       "    .dataframe tbody tr th {\n",
       "        vertical-align: top;\n",
       "    }\n",
       "\n",
       "    .dataframe thead th {\n",
       "        text-align: right;\n",
       "    }\n",
       "</style>\n",
       "<table border=\"1\" class=\"dataframe\">\n",
       "  <thead>\n",
       "    <tr style=\"text-align: right;\">\n",
       "      <th></th>\n",
       "      <th>is_male</th>\n",
       "      <th>num_interactions_with_cust_service</th>\n",
       "      <th>country</th>\n",
       "      <th>late_on_payment</th>\n",
       "      <th>age</th>\n",
       "      <th>years_in_contract</th>\n",
       "      <th>churned</th>\n",
       "    </tr>\n",
       "  </thead>\n",
       "  <tbody>\n",
       "    <tr>\n",
       "      <th>0</th>\n",
       "      <td>True</td>\n",
       "      <td>0.0</td>\n",
       "      <td>GRE</td>\n",
       "      <td>False</td>\n",
       "      <td>41.0</td>\n",
       "      <td>3.240370</td>\n",
       "      <td>False</td>\n",
       "    </tr>\n",
       "    <tr>\n",
       "      <th>1</th>\n",
       "      <td>True</td>\n",
       "      <td>1.0</td>\n",
       "      <td>ISR</td>\n",
       "      <td>False</td>\n",
       "      <td>29.0</td>\n",
       "      <td>2.121320</td>\n",
       "      <td>False</td>\n",
       "    </tr>\n",
       "    <tr>\n",
       "      <th>2</th>\n",
       "      <td>False</td>\n",
       "      <td>0.0</td>\n",
       "      <td>GRE</td>\n",
       "      <td>False</td>\n",
       "      <td>34.0</td>\n",
       "      <td>3.240370</td>\n",
       "      <td>False</td>\n",
       "    </tr>\n",
       "    <tr>\n",
       "      <th>3</th>\n",
       "      <td>False</td>\n",
       "      <td>1.0</td>\n",
       "      <td>ISR</td>\n",
       "      <td>False</td>\n",
       "      <td>29.0</td>\n",
       "      <td>3.240370</td>\n",
       "      <td>False</td>\n",
       "    </tr>\n",
       "    <tr>\n",
       "      <th>4</th>\n",
       "      <td>True</td>\n",
       "      <td>0.0</td>\n",
       "      <td>ISR</td>\n",
       "      <td>False</td>\n",
       "      <td>33.0</td>\n",
       "      <td>3.082207</td>\n",
       "      <td>False</td>\n",
       "    </tr>\n",
       "    <tr>\n",
       "      <th>...</th>\n",
       "      <td>...</td>\n",
       "      <td>...</td>\n",
       "      <td>...</td>\n",
       "      <td>...</td>\n",
       "      <td>...</td>\n",
       "      <td>...</td>\n",
       "      <td>...</td>\n",
       "    </tr>\n",
       "    <tr>\n",
       "      <th>49995</th>\n",
       "      <td>False</td>\n",
       "      <td>1.0</td>\n",
       "      <td>GRE</td>\n",
       "      <td>False</td>\n",
       "      <td>25.0</td>\n",
       "      <td>0.707107</td>\n",
       "      <td>False</td>\n",
       "    </tr>\n",
       "    <tr>\n",
       "      <th>49996</th>\n",
       "      <td>True</td>\n",
       "      <td>1.0</td>\n",
       "      <td>ISR</td>\n",
       "      <td>False</td>\n",
       "      <td>29.0</td>\n",
       "      <td>0.707107</td>\n",
       "      <td>False</td>\n",
       "    </tr>\n",
       "    <tr>\n",
       "      <th>49997</th>\n",
       "      <td>False</td>\n",
       "      <td>0.0</td>\n",
       "      <td>GRE</td>\n",
       "      <td>False</td>\n",
       "      <td>31.0</td>\n",
       "      <td>2.121320</td>\n",
       "      <td>False</td>\n",
       "    </tr>\n",
       "    <tr>\n",
       "      <th>49998</th>\n",
       "      <td>True</td>\n",
       "      <td>1.0</td>\n",
       "      <td>GRE</td>\n",
       "      <td>False</td>\n",
       "      <td>33.0</td>\n",
       "      <td>3.082207</td>\n",
       "      <td>False</td>\n",
       "    </tr>\n",
       "    <tr>\n",
       "      <th>49999</th>\n",
       "      <td>True</td>\n",
       "      <td>1.0</td>\n",
       "      <td>GRE</td>\n",
       "      <td>False</td>\n",
       "      <td>35.0</td>\n",
       "      <td>1.581139</td>\n",
       "      <td>True</td>\n",
       "    </tr>\n",
       "  </tbody>\n",
       "</table>\n",
       "<p>50000 rows × 7 columns</p>\n",
       "</div>"
      ],
      "text/plain": [
       "       is_male  num_interactions_with_cust_service country  late_on_payment  \\\n",
       "0         True                                 0.0     GRE            False   \n",
       "1         True                                 1.0     ISR            False   \n",
       "2        False                                 0.0     GRE            False   \n",
       "3        False                                 1.0     ISR            False   \n",
       "4         True                                 0.0     ISR            False   \n",
       "...        ...                                 ...     ...              ...   \n",
       "49995    False                                 1.0     GRE            False   \n",
       "49996     True                                 1.0     ISR            False   \n",
       "49997    False                                 0.0     GRE            False   \n",
       "49998     True                                 1.0     GRE            False   \n",
       "49999     True                                 1.0     GRE            False   \n",
       "\n",
       "        age  years_in_contract  churned  \n",
       "0      41.0           3.240370    False  \n",
       "1      29.0           2.121320    False  \n",
       "2      34.0           3.240370    False  \n",
       "3      29.0           3.240370    False  \n",
       "4      33.0           3.082207    False  \n",
       "...     ...                ...      ...  \n",
       "49995  25.0           0.707107    False  \n",
       "49996  29.0           0.707107    False  \n",
       "49997  31.0           2.121320    False  \n",
       "49998  33.0           3.082207    False  \n",
       "49999  35.0           1.581139     True  \n",
       "\n",
       "[50000 rows x 7 columns]"
      ]
     },
     "execution_count": 87,
     "metadata": {},
     "output_type": "execute_result"
    }
   ],
   "source": [
    "df"
   ]
  },
  {
   "cell_type": "code",
   "execution_count": 88,
   "metadata": {},
   "outputs": [
    {
     "data": {
      "text/plain": [
       "array([False,  True])"
      ]
     },
     "execution_count": 88,
     "metadata": {},
     "output_type": "execute_result"
    }
   ],
   "source": [
    "df.late_on_payment.unique()"
   ]
  },
  {
   "cell_type": "code",
   "execution_count": 89,
   "metadata": {},
   "outputs": [
    {
     "data": {
      "text/plain": [
       "array(['GRE', 'ISR'], dtype=object)"
      ]
     },
     "execution_count": 89,
     "metadata": {},
     "output_type": "execute_result"
    }
   ],
   "source": [
    "df.country.unique()"
   ]
  },
  {
   "cell_type": "code",
   "execution_count": 90,
   "metadata": {},
   "outputs": [],
   "source": [
    "age = df.age\n"
   ]
  },
  {
   "cell_type": "code",
   "execution_count": 91,
   "metadata": {},
   "outputs": [
    {
     "data": {
      "text/plain": [
       "49799     9.0\n",
       "18015    11.0\n",
       "26785    11.0\n",
       "2804     12.0\n",
       "23267    12.0\n",
       "         ... \n",
       "36259    49.0\n",
       "20800    49.0\n",
       "1838     49.0\n",
       "38815    49.0\n",
       "45869    49.0\n",
       "Name: age, Length: 50000, dtype: float64"
      ]
     },
     "execution_count": 91,
     "metadata": {},
     "output_type": "execute_result"
    }
   ],
   "source": [
    "df.age.sort_values()"
   ]
  },
  {
   "cell_type": "code",
   "execution_count": 92,
   "metadata": {},
   "outputs": [],
   "source": [
    "df['is_male'] = df['is_male'].replace({True: 0, False : 1})\n"
   ]
  },
  {
   "cell_type": "code",
   "execution_count": 93,
   "metadata": {},
   "outputs": [],
   "source": [
    "df['late_on_payment'] = df['late_on_payment'].replace({True: 1, False : 0})"
   ]
  },
  {
   "cell_type": "code",
   "execution_count": 94,
   "metadata": {},
   "outputs": [],
   "source": [
    "male = df[df['is_male'] == 0]\n",
    "female = df[df['is_male'] == 1]\n",
    "\n"
   ]
  },
  {
   "cell_type": "code",
   "execution_count": 95,
   "metadata": {},
   "outputs": [],
   "source": [
    "df = pd.get_dummies(df, columns=['is_male'],  prefix =['sex'])\n",
    "\n"
   ]
  },
  {
   "cell_type": "code",
   "execution_count": 96,
   "metadata": {},
   "outputs": [
    {
     "data": {
      "text/html": [
       "<div>\n",
       "<style scoped>\n",
       "    .dataframe tbody tr th:only-of-type {\n",
       "        vertical-align: middle;\n",
       "    }\n",
       "\n",
       "    .dataframe tbody tr th {\n",
       "        vertical-align: top;\n",
       "    }\n",
       "\n",
       "    .dataframe thead th {\n",
       "        text-align: right;\n",
       "    }\n",
       "</style>\n",
       "<table border=\"1\" class=\"dataframe\">\n",
       "  <thead>\n",
       "    <tr style=\"text-align: right;\">\n",
       "      <th></th>\n",
       "      <th>num_interactions_with_cust_service</th>\n",
       "      <th>country</th>\n",
       "      <th>late_on_payment</th>\n",
       "      <th>age</th>\n",
       "      <th>years_in_contract</th>\n",
       "      <th>churned</th>\n",
       "      <th>sex_0</th>\n",
       "      <th>sex_1</th>\n",
       "    </tr>\n",
       "  </thead>\n",
       "  <tbody>\n",
       "    <tr>\n",
       "      <th>0</th>\n",
       "      <td>0.0</td>\n",
       "      <td>GRE</td>\n",
       "      <td>0</td>\n",
       "      <td>41.0</td>\n",
       "      <td>3.240370</td>\n",
       "      <td>False</td>\n",
       "      <td>1</td>\n",
       "      <td>0</td>\n",
       "    </tr>\n",
       "    <tr>\n",
       "      <th>1</th>\n",
       "      <td>1.0</td>\n",
       "      <td>ISR</td>\n",
       "      <td>0</td>\n",
       "      <td>29.0</td>\n",
       "      <td>2.121320</td>\n",
       "      <td>False</td>\n",
       "      <td>1</td>\n",
       "      <td>0</td>\n",
       "    </tr>\n",
       "    <tr>\n",
       "      <th>2</th>\n",
       "      <td>0.0</td>\n",
       "      <td>GRE</td>\n",
       "      <td>0</td>\n",
       "      <td>34.0</td>\n",
       "      <td>3.240370</td>\n",
       "      <td>False</td>\n",
       "      <td>0</td>\n",
       "      <td>1</td>\n",
       "    </tr>\n",
       "    <tr>\n",
       "      <th>3</th>\n",
       "      <td>1.0</td>\n",
       "      <td>ISR</td>\n",
       "      <td>0</td>\n",
       "      <td>29.0</td>\n",
       "      <td>3.240370</td>\n",
       "      <td>False</td>\n",
       "      <td>0</td>\n",
       "      <td>1</td>\n",
       "    </tr>\n",
       "    <tr>\n",
       "      <th>4</th>\n",
       "      <td>0.0</td>\n",
       "      <td>ISR</td>\n",
       "      <td>0</td>\n",
       "      <td>33.0</td>\n",
       "      <td>3.082207</td>\n",
       "      <td>False</td>\n",
       "      <td>1</td>\n",
       "      <td>0</td>\n",
       "    </tr>\n",
       "    <tr>\n",
       "      <th>...</th>\n",
       "      <td>...</td>\n",
       "      <td>...</td>\n",
       "      <td>...</td>\n",
       "      <td>...</td>\n",
       "      <td>...</td>\n",
       "      <td>...</td>\n",
       "      <td>...</td>\n",
       "      <td>...</td>\n",
       "    </tr>\n",
       "    <tr>\n",
       "      <th>49995</th>\n",
       "      <td>1.0</td>\n",
       "      <td>GRE</td>\n",
       "      <td>0</td>\n",
       "      <td>25.0</td>\n",
       "      <td>0.707107</td>\n",
       "      <td>False</td>\n",
       "      <td>0</td>\n",
       "      <td>1</td>\n",
       "    </tr>\n",
       "    <tr>\n",
       "      <th>49996</th>\n",
       "      <td>1.0</td>\n",
       "      <td>ISR</td>\n",
       "      <td>0</td>\n",
       "      <td>29.0</td>\n",
       "      <td>0.707107</td>\n",
       "      <td>False</td>\n",
       "      <td>1</td>\n",
       "      <td>0</td>\n",
       "    </tr>\n",
       "    <tr>\n",
       "      <th>49997</th>\n",
       "      <td>0.0</td>\n",
       "      <td>GRE</td>\n",
       "      <td>0</td>\n",
       "      <td>31.0</td>\n",
       "      <td>2.121320</td>\n",
       "      <td>False</td>\n",
       "      <td>0</td>\n",
       "      <td>1</td>\n",
       "    </tr>\n",
       "    <tr>\n",
       "      <th>49998</th>\n",
       "      <td>1.0</td>\n",
       "      <td>GRE</td>\n",
       "      <td>0</td>\n",
       "      <td>33.0</td>\n",
       "      <td>3.082207</td>\n",
       "      <td>False</td>\n",
       "      <td>1</td>\n",
       "      <td>0</td>\n",
       "    </tr>\n",
       "    <tr>\n",
       "      <th>49999</th>\n",
       "      <td>1.0</td>\n",
       "      <td>GRE</td>\n",
       "      <td>0</td>\n",
       "      <td>35.0</td>\n",
       "      <td>1.581139</td>\n",
       "      <td>True</td>\n",
       "      <td>1</td>\n",
       "      <td>0</td>\n",
       "    </tr>\n",
       "  </tbody>\n",
       "</table>\n",
       "<p>50000 rows × 8 columns</p>\n",
       "</div>"
      ],
      "text/plain": [
       "       num_interactions_with_cust_service country  late_on_payment   age  \\\n",
       "0                                     0.0     GRE                0  41.0   \n",
       "1                                     1.0     ISR                0  29.0   \n",
       "2                                     0.0     GRE                0  34.0   \n",
       "3                                     1.0     ISR                0  29.0   \n",
       "4                                     0.0     ISR                0  33.0   \n",
       "...                                   ...     ...              ...   ...   \n",
       "49995                                 1.0     GRE                0  25.0   \n",
       "49996                                 1.0     ISR                0  29.0   \n",
       "49997                                 0.0     GRE                0  31.0   \n",
       "49998                                 1.0     GRE                0  33.0   \n",
       "49999                                 1.0     GRE                0  35.0   \n",
       "\n",
       "       years_in_contract  churned  sex_0  sex_1  \n",
       "0               3.240370    False      1      0  \n",
       "1               2.121320    False      1      0  \n",
       "2               3.240370    False      0      1  \n",
       "3               3.240370    False      0      1  \n",
       "4               3.082207    False      1      0  \n",
       "...                  ...      ...    ...    ...  \n",
       "49995           0.707107    False      0      1  \n",
       "49996           0.707107    False      1      0  \n",
       "49997           2.121320    False      0      1  \n",
       "49998           3.082207    False      1      0  \n",
       "49999           1.581139     True      1      0  \n",
       "\n",
       "[50000 rows x 8 columns]"
      ]
     },
     "execution_count": 96,
     "metadata": {},
     "output_type": "execute_result"
    }
   ],
   "source": [
    "df"
   ]
  },
  {
   "cell_type": "code",
   "execution_count": 100,
   "metadata": {},
   "outputs": [
    {
     "data": {
      "text/plain": [
       "<BarContainer object of 50000 artists>"
      ]
     },
     "execution_count": 100,
     "metadata": {},
     "output_type": "execute_result"
    },
    {
     "data": {
      "image/png": "[encoded data removed]",
      "text/plain": [
       "<Figure size 432x288 with 1 Axes>"
      ]
     },
     "metadata": {
      "needs_background": "light"
     },
     "output_type": "display_data"
    }
   ],
   "source": [
    "plt.bar(df['age'], df['late_on_payment'])"
   ]
  },
  {
   "cell_type": "code",
   "execution_count": null,
   "metadata": {},
   "outputs": [],
   "source": []
  },
  {
   "cell_type": "code",
   "execution_count": null,
   "metadata": {},
   "outputs": [],
   "source": []
  },
  {
   "cell_type": "code",
   "execution_count": null,
   "metadata": {},
   "outputs": [],
   "source": []
  }
 ],
 "metadata": {
  "kernelspec": {
   "display_name": "Python 3",
   "language": "python",
   "name": "python3"
  },
  "language_info": {
   "codemirror_mode": {
    "name": "ipython",
    "version": 3
   },
   "file_extension": ".py",
   "mimetype": "text/x-python",
   "name": "python",
   "nbconvert_exporter": "python",
   "pygments_lexer": "ipython3",
   "version": "3.9.0"
  }
 },
 "nbformat": 4,
 "nbformat_minor": 4
}
